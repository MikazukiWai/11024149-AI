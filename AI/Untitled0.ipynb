{
  "nbformat": 4,
  "nbformat_minor": 0,
  "metadata": {
    "colab": {
      "provenance": []
    },
    "kernelspec": {
      "name": "python3",
      "display_name": "Python 3"
    },
    "language_info": {
      "name": "python"
    },
    "gpuClass": "standard",
    "accelerator": "GPU"
  },
  "cells": [
    {
      "cell_type": "code",
      "execution_count": null,
      "metadata": {
        "id": "PNzw2h-nMj2o"
      },
      "outputs": [],
      "source": [
        "import os\n",
        "os.kill(os.getpid(), 9)"
      ]
    },
    {
      "cell_type": "code",
      "source": [
        "!git clone https://github.com/AUTOMATIC1111/stable-diffusion-webui\n",
        "%cd stable-diffusion-webui\n",
        "!git pull"
      ],
      "metadata": {
        "colab": {
          "base_uri": "https://localhost:8080/"
        },
        "id": "dtdMVDttOcqH",
        "outputId": "1bf27c0e-f7d6-499d-ab44-1635bcc87712"
      },
      "execution_count": null,
      "outputs": [
        {
          "output_type": "stream",
          "name": "stdout",
          "text": [
            "Cloning into 'stable-diffusion-webui'...\n",
            "remote: Enumerating objects: 11797, done.\u001b[K\n",
            "remote: Counting objects: 100% (179/179), done.\u001b[K\n",
            "remote: Compressing objects: 100% (95/95), done.\u001b[K\n",
            "remote: Total 11797 (delta 94), reused 150 (delta 79), pack-reused 11618\u001b[K\n",
            "Receiving objects: 100% (11797/11797), 24.08 MiB | 37.08 MiB/s, done.\n",
            "Resolving deltas: 100% (8220/8220), done.\n",
            "/content/stable-diffusion-webui\n",
            "Already up to date.\n"
          ]
        }
      ]
    },
    {
      "cell_type": "code",
      "source": [
        "from google.colab import drive\n",
        "drive.mount( \"/content/drive/\")"
      ],
      "metadata": {
        "colab": {
          "base_uri": "https://localhost:8080/"
        },
        "id": "n0nJLZbYPKBI",
        "outputId": "309d28f7-89d9-499d-cad2-a7e43697b716"
      },
      "execution_count": null,
      "outputs": [
        {
          "output_type": "stream",
          "name": "stdout",
          "text": [
            "Mounted at /content/drive/\n"
          ]
        }
      ]
    },
    {
      "cell_type": "code",
      "source": [
        "%cd /content/drive/MyDrive\n",
        "\n",
        "from google.colab import files\n",
        "import os\n",
        "\n",
        "if not os.path.exists('NovelAi/animefull-final-pruned.ckpt'):\n",
        "  !mkdir NovelAi\n",
        "  %cd NovelAi\n",
        "  print(\"开始下载模型...\")\n",
        "  !gdown \"1NaJcM3ba7gUG4cDUtHJSLalcDsAUVLRr\" \n",
        "\n",
        "%cd /content/drive/MyDrive\n",
        "if not os.path.exists('NovelAi/animefull-final-pruned.ckpt'):\n",
        "  print(\"未找到模型\")\n",
        "!cp /content/drive/MyDrive/NovelAi/animefull-final-pruned.ckpt /content/stable-diffusion-webui/models/Stable-diffusion/"
      ],
      "metadata": {
        "colab": {
          "base_uri": "https://localhost:8080/"
        },
        "id": "D5o8cpqJP64n",
        "outputId": "da10bdfc-1b4d-40e2-930b-151194ed8261"
      },
      "execution_count": null,
      "outputs": [
        {
          "output_type": "stream",
          "name": "stdout",
          "text": [
            "/content/drive/MyDrive\n",
            "/content/drive/MyDrive\n"
          ]
        }
      ]
    },
    {
      "cell_type": "code",
      "source": [
        "%cd /content/drive/MyDrive\n",
        "\n",
        "from google.colab import files\n",
        "import os\n",
        "\n",
        "if not os.path.exists('NovelAi/hypernetworks.zip'):\n",
        "  !mkdir NovelAi\n",
        "  %cd NovelAi\n",
        "  print(\"开始下载资源...\")\n",
        "  !gdown \"1mYRDVMJdyd1iH1cooUQeKUUAAdXA61Hn\"\n",
        "  # !wget https://plastic-global-sundial.glitch.me/hypernetworks.zip\n",
        "\n",
        "!cp /content/drive/MyDrive/NovelAi/hypernetworks.zip /content/stable-diffusion-webui/models/\n",
        "%cd /content/stable-diffusion-webui/models\n",
        "!unzip hypernetworks.zip -d hypernetworks"
      ],
      "metadata": {
        "colab": {
          "base_uri": "https://localhost:8080/"
        },
        "id": "GN7gkKg1Q64q",
        "outputId": "5a590ba5-bad8-4123-9fd9-d5dacb134042"
      },
      "execution_count": null,
      "outputs": [
        {
          "output_type": "stream",
          "name": "stdout",
          "text": [
            "/content/drive/MyDrive\n",
            "/content/stable-diffusion-webui/models\n",
            "Archive:  hypernetworks.zip\n",
            "  inflating: hypernetworks/aini.pt   \n",
            "  inflating: hypernetworks/anime.pt  \n",
            "  inflating: hypernetworks/anime_2.pt  \n",
            "  inflating: hypernetworks/anime_3.pt  \n",
            "  inflating: hypernetworks/furry.pt  \n",
            "  inflating: hypernetworks/furry_2.pt  \n",
            "  inflating: hypernetworks/furry_3.pt  \n",
            "  inflating: hypernetworks/furry_kemono.pt  \n",
            "  inflating: hypernetworks/furry_protogen.pt  \n",
            "  inflating: hypernetworks/furry_scalie.pt  \n",
            "  inflating: hypernetworks/furry_transformation.pt  \n",
            "  inflating: hypernetworks/pony.pt   \n"
          ]
        }
      ]
    },
    {
      "cell_type": "code",
      "source": [
        "%cd /content/stable-diffusion-webui\n",
        "!COMMANDLINE_ARGS=\"--exit\" REQS_FILE=\"requirements.txt\" python launch.py"
      ],
      "metadata": {
        "colab": {
          "base_uri": "https://localhost:8080/"
        },
        "id": "JDPViX9FRw0S",
        "outputId": "f1e85d5e-6dc2-49a6-d7bd-2f7b8b9747b1"
      },
      "execution_count": null,
      "outputs": [
        {
          "output_type": "stream",
          "name": "stdout",
          "text": [
            "/content/stable-diffusion-webui\n",
            "Python 3.8.15 (default, Oct 12 2022, 19:14:39) \n",
            "[GCC 7.5.0]\n",
            "Commit hash: 8504db51704d238cc7616f6bf59eb049d3eb101d\n",
            "Installing gfpgan\n",
            "Installing clip\n",
            "Installing open_clip\n",
            "Cloning Stable Diffusion into repositories/stable-diffusion-stability-ai...\n",
            "Cloning Taming Transformers into repositories/taming-transformers...\n",
            "Cloning K-diffusion into repositories/k-diffusion...\n",
            "Cloning CodeFormer into repositories/CodeFormer...\n",
            "Cloning BLIP into repositories/BLIP...\n",
            "Installing requirements for CodeFormer\n",
            "Installing requirements for Web UI\n",
            "Exiting because of --exit argument\n"
          ]
        }
      ]
    },
    {
      "cell_type": "code",
      "source": [
        "%cd /content/stable-diffusion-webui\n",
        "!COMMANDLINE_ARGS=\"--share --gradio-debug --gradio-auth 1:2\" REQS_FILE=\"requirements.txt\" python launch.py"
      ],
      "metadata": {
        "id": "-wYKs2PAR8nm"
      },
      "execution_count": null,
      "outputs": []
    }
  ]
}