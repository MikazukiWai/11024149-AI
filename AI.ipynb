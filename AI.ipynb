{
  "nbformat": 4,
  "nbformat_minor": 0,
  "metadata": {
    "colab": {
      "provenance": [],
      "authorship_tag": "ABX9TyPmJBncbVVcQcrMPmmq/ofA",
      "include_colab_link": true
    },
    "kernelspec": {
      "name": "python3",
      "display_name": "Python 3"
    },
    "language_info": {
      "name": "python"
    },
    "gpuClass": "standard",
    "accelerator": "GPU"
  },
  "cells": [
    {
      "cell_type": "markdown",
      "metadata": {
        "id": "view-in-github",
        "colab_type": "text"
      },
      "source": [
        "<a href=\"https://colab.research.google.com/github/MikazukiWai/11024149-AI/blob/main/AI.ipynb\" target=\"_parent\"><img src=\"https://colab.research.google.com/assets/colab-badge.svg\" alt=\"Open In Colab\"/></a>"
      ]
    },
    {
      "cell_type": "code",
      "execution_count": null,
      "metadata": {
        "id": "PNzw2h-nMj2o"
      },
      "outputs": [],
      "source": [
        "import os\n",
        "os.kill(os.getpid(), 9)"
      ]
    },
    {
      "cell_type": "code",
      "source": [
        "!git clone https://github.com/AUTOMATIC1111/stable-diffusion-webui\n",
        "%cd stable-diffusion-webui\n",
        "!git pull"
      ],
      "metadata": {
        "id": "dtdMVDttOcqH"
      },
      "execution_count": null,
      "outputs": []
    },
    {
      "cell_type": "code",
      "source": [
        "from google.colab import drive\n",
        "drive.mount( \"/content/drive/\")"
      ],
      "metadata": {
        "id": "n0nJLZbYPKBI"
      },
      "execution_count": null,
      "outputs": []
    },
    {
      "cell_type": "code",
      "source": [
        "%cd /content/drive/MyDrive\n",
        "\n",
        "from google.colab import files\n",
        "import os\n",
        "\n",
        "if not os.path.exists('NovelAi/animefull-final-pruned.ckpt'):\n",
        "  !mkdir NovelAi\n",
        "  %cd NovelAi\n",
        "  print(\"开始下载模型...\")\n",
        "  !gdown \"1NaJcM3ba7gUG4cDUtHJSLalcDsAUVLRr\" \n",
        "\n",
        "%cd /content/drive/MyDrive\n",
        "if not os.path.exists('NovelAi/animefull-final-pruned.ckpt'):\n",
        "  print(\"未找到模型\")\n",
        "!cp /content/drive/MyDrive/NovelAi/animefull-final-pruned.ckpt /content/stable-diffusion-webui/models/Stable-diffusion/"
      ],
      "metadata": {
        "id": "D5o8cpqJP64n"
      },
      "execution_count": null,
      "outputs": []
    },
    {
      "cell_type": "code",
      "source": [
        "%cd /content/drive/MyDrive\n",
        "\n",
        "from google.colab import files\n",
        "import os\n",
        "\n",
        "if not os.path.exists('NovelAi/hypernetworks.zip'):\n",
        "  !mkdir NovelAi\n",
        "  %cd NovelAi\n",
        "  print(\"开始下载资源...\")\n",
        "  !gdown \"1mYRDVMJdyd1iH1cooUQeKUUAAdXA61Hn\"\n",
        "  # !wget https://plastic-global-sundial.glitch.me/hypernetworks.zip\n",
        "\n",
        "!cp /content/drive/MyDrive/NovelAi/hypernetworks.zip /content/stable-diffusion-webui/models/\n",
        "%cd /content/stable-diffusion-webui/models\n",
        "!unzip hypernetworks.zip -d hypernetworks"
      ],
      "metadata": {
        "id": "GN7gkKg1Q64q"
      },
      "execution_count": null,
      "outputs": []
    },
    {
      "cell_type": "code",
      "source": [
        "%cd /content/stable-diffusion-webui\n",
        "!COMMANDLINE_ARGS=\"--exit\" REQS_FILE=\"requirements.txt\" python launch.py"
      ],
      "metadata": {
        "id": "JDPViX9FRw0S"
      },
      "execution_count": null,
      "outputs": []
    },
    {
      "cell_type": "code",
      "source": [
        "%cd /content/stable-diffusion-webui\n",
        "!COMMANDLINE_ARGS=\"--share --gradio-debug --gradio-auth 1:2\" REQS_FILE=\"requirements.txt\" python launch.py"
      ],
      "metadata": {
        "id": "-wYKs2PAR8nm"
      },
      "execution_count": null,
      "outputs": []
    }
  ]
}